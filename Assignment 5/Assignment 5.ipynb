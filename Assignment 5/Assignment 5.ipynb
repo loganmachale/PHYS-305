{
 "cells": [
  {
   "cell_type": "markdown",
   "metadata": {},
   "source": [
    "# **Problem 1** #"
   ]
  },
  {
   "cell_type": "markdown",
   "metadata": {},
   "source": [
    "## 1. ##\n",
    "Proteins labelled with Cy5 -> Cy5 has excitation peak at ~ 649 nm, and emission peak at ~ 667 nm.\n",
    "\n",
    "DNA labelled with Cy3 -> Cy3 has excitation peak at ~ 554 nm, and emission peak at ~ 566 nm.\n",
    "\n",
    "<img src=\"setup.png\" alt=\"setup\" style=\"width:450px;\"/> From \"Fluorescence Correlation Spectroscopy\n",
    "An Introduction to its Concepts and Applications\", Petra Schwille and Elke Haustein\n",
    "\n",
    "**Sample:**\n",
    "A dilute solution (nanomolar range) containing the two species is prepared on a coverslip or within a sealed chamber. The low concentration is crucial for ensuring that only a few molecules reside in the focal volume at any given time.\n",
    "\n",
    "**Objective:**\n",
    "The objective lens must have a high numerical aperture (ideally NA > 0.9) in order to focus the laser light to a sufficiently small focal volume to ensure the number of simultaneously detected particles is not too large. Water immersion objectives are often used.\n",
    "\n",
    "**Lasers:**\n"
   ]
  },
  {
   "cell_type": "code",
   "execution_count": null,
   "metadata": {},
   "outputs": [],
   "source": []
  }
 ],
 "metadata": {
  "kernelspec": {
   "display_name": "base",
   "language": "python",
   "name": "python3"
  },
  "language_info": {
   "codemirror_mode": {
    "name": "ipython",
    "version": 3
   },
   "file_extension": ".py",
   "mimetype": "text/x-python",
   "name": "python",
   "nbconvert_exporter": "python",
   "pygments_lexer": "ipython3",
   "version": "3.9.12"
  }
 },
 "nbformat": 4,
 "nbformat_minor": 2
}
